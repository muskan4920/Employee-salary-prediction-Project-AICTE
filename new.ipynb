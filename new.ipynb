{
  "nbformat": 4,
  "nbformat_minor": 0,
  "metadata": {
    "colab": {
      "provenance": []
    },
    "kernelspec": {
      "name": "python3",
      "display_name": "Python 3"
    },
    "language_info": {
      "name": "python"
    }
  },
  "cells": [
    {
      "cell_type": "code",
      "execution_count": null,
      "metadata": {
        "id": "ppJS9iOPPeov"
      },
      "outputs": [],
      "source": [
        "import streamlit as st\n",
        "import joblib\n",
        "import numpy as np\n",
        "\n",
        "# Load model\n",
        "model = joblib.load('best_model.pkl')\n",
        "\n",
        "# Title\n",
        "st.title(\"Employee Salary Classification App\")\n",
        "\n",
        "# Input form\n",
        "st.sidebar.header(\"Input Employee Details\")\n",
        "age = st.sidebar.number_input(\"Age\", min_value=18, max_value=70)\n",
        "workclass = st.sidebar.selectbox(\"Workclass\", ['Private', 'Self-emp', 'Government'])\n",
        "education = st.sidebar.selectbox(\"Education\", ['Bachelors', 'HS-grad', 'Masters'])\n",
        "occupation = st.sidebar.selectbox(\"Occupation\", ['Tech-support', 'Craft-repair', 'Adm-clerical', 'Exec-managerial'])\n",
        "hours_per_week = st.sidebar.slider(\"Hours per week\", 1, 100, 40)\n",
        "\n",
        "# Encode manually (simulate encoding used in training)\n",
        "workclass_map = {'Private': 0, 'Self-emp': 1, 'Government': 2}\n",
        "education_map = {'Bachelors': 0, 'HS-grad': 1, 'Masters': 2}\n",
        "occupation_map = {'Tech-support': 0, 'Craft-repair': 1, 'Adm-clerical': 2, 'Exec-managerial': 3}\n",
        "\n",
        "input_data = np.array([[age, workclass_map[workclass], education_map[education], occupation_map[occupation], hours_per_week]])\n",
        "\n",
        "# Predict\n",
        "if st.button(\"Predict Salary Class\"):\n",
        "    prediction = model.predict(input_data)\n",
        "    result = \"<=50K\" if prediction[0] == 0 else \">50K\"\n",
        "    st.success(f\"Predicted Salary Range: {result}\")"
      ]
    }
  ]
}